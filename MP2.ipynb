{
 "cells": [
  {
   "cell_type": "code",
   "execution_count": 22,
   "id": "b8beb1d6",
   "metadata": {},
   "outputs": [],
   "source": [
    "import time\n",
    "import numpy as np"
   ]
  },
  {
   "cell_type": "code",
   "execution_count": 29,
   "id": "20a4647c",
   "metadata": {
    "scrolled": true
   },
   "outputs": [
    {
     "data": {
      "text/plain": [
       "[['BBIJ..', '..IJCC', '..IAAM', 'GDDK.M', 'GH.KL.', 'GHFFL.'],\n",
       " ['..I...', 'BBI.K.', 'GHAAKL', 'GHDDKL', 'G..JEE', 'FF.J..'],\n",
       " ['JBBCCC', 'JDD..M', 'JAAL.M', 'FFKL.N', '..KGGN', '.HH...'],\n",
       " ['BBB..M', 'CCDD.M', 'AAKL.M', 'J.KLEE', 'J.GG..', 'JHHHII'],\n",
       " ['IJBBCC', 'IJDDL.', 'IJAAL.', 'EEK.L.', '..KFF.', '.GGHH.'],\n",
       " ['BB.G.H', 'E..G.H', 'EAAG.I', '..FCCI', 'DDF..I', '..F...']]"
      ]
     },
     "execution_count": 29,
     "metadata": {},
     "output_type": "execute_result"
    }
   ],
   "source": [
    "# open the sample file used\n",
    "file = open('Sample/sample-input.txt')\n",
    "  \n",
    "# read the content of the file opened\n",
    "content = file.readlines()\n",
    "\n",
    "filtered_content = []\n",
    "boards = []\n",
    "# fuel = {}\n",
    "for line in content:\n",
    "    if line[0] != '#' and line[0] != '\\n':\n",
    "        filtered_content.append(line.strip())\n",
    "        \n",
    "for line in filtered_content: \n",
    "    line_split = line.split() \n",
    "    p = line_split[0]\n",
    "    \n",
    "    # get puzzle in array form \n",
    "    board = []\n",
    "    for i in range(0, 35, 6):\n",
    "        board.append(p[i:i+6])\n",
    "    boards.append(board)\n",
    "\n",
    "\n",
    "boards"
   ]
  },
  {
   "cell_type": "code",
   "execution_count": 5,
   "id": "705acdb0",
   "metadata": {},
   "outputs": [
    {
     "data": {
      "text/plain": [
       "['BBIJ....IJCC..IAAMGDDK.MGH.KL.GHFFL.',\n",
       " '..I...BBI.K.GHAAKLGHDDKLG..JEEFF.J..',\n",
       " 'JBBCCCJDD..MJAAL.MFFKL.N..KGGN.HH...',\n",
       " 'BBB..MCCDD.MAAKL.MJ.KLEEJ.GG..JHHHII J0 B4',\n",
       " 'IJBBCCIJDDL.IJAAL.EEK.L...KFF..GGHH. F0 G6',\n",
       " 'BB.G.HE..G.HEAAG.I..FCCIDDF..I..F...']"
      ]
     },
     "execution_count": 5,
     "metadata": {},
     "output_type": "execute_result"
    }
   ],
   "source": [
    "filtered_content"
   ]
  },
  {
   "cell_type": "code",
   "execution_count": 6,
   "id": "bffa6c1e",
   "metadata": {},
   "outputs": [],
   "source": [
    "def get_board(puzzle): \n",
    "    puzzle_split = puzzle.split() \n",
    "    p = puzzle_split[0]\n",
    "    \n",
    "    board = []\n",
    "    for i in range(0, 35, 6):\n",
    "        board.append(p[i:i+6])\n",
    "    \n",
    "    return board"
   ]
  },
  {
   "cell_type": "code",
   "execution_count": 7,
   "id": "73491bb0",
   "metadata": {},
   "outputs": [
    {
     "data": {
      "text/plain": [
       "['BBB..M', 'CCDD.M', 'AAKL.M', 'J.KLEE', 'J.GG..', 'JHHHII']"
      ]
     },
     "execution_count": 7,
     "metadata": {},
     "output_type": "execute_result"
    }
   ],
   "source": [
    "get_board(filtered_content[3])"
   ]
  },
  {
   "cell_type": "code",
   "execution_count": 8,
   "id": "51acce34",
   "metadata": {},
   "outputs": [],
   "source": [
    "def get_fuel(puzzle): \n",
    "    fuel = {}\n",
    "    puzzle_split = puzzle.split() \n",
    "    p = puzzle_split[0]\n",
    "    \n",
    "    for f in puzzle_split[1:]: \n",
    "        fuel[f[0]] = f[1]\n",
    "    \n",
    "    for c in p: \n",
    "        if c.isalpha() and c not in fuel: \n",
    "            fuel[c] = 100\n",
    "            \n",
    "    return fuel"
   ]
  },
  {
   "cell_type": "code",
   "execution_count": 9,
   "id": "c3e407e9",
   "metadata": {},
   "outputs": [
    {
     "data": {
      "text/plain": [
       "{'J': '0',\n",
       " 'B': '4',\n",
       " 'M': 100,\n",
       " 'C': 100,\n",
       " 'D': 100,\n",
       " 'A': 100,\n",
       " 'K': 100,\n",
       " 'L': 100,\n",
       " 'E': 100,\n",
       " 'G': 100,\n",
       " 'H': 100,\n",
       " 'I': 100}"
      ]
     },
     "execution_count": 9,
     "metadata": {},
     "output_type": "execute_result"
    }
   ],
   "source": [
    "get_fuel(filtered_content[3])"
   ]
  },
  {
   "cell_type": "code",
   "execution_count": 10,
   "id": "194cf265",
   "metadata": {},
   "outputs": [],
   "source": [
    "def print_board(board):\n",
    "    print('   1 2 3 4 5 6')\n",
    "    print('   ------------')\n",
    "    i = 0\n",
    "    for row in board:\n",
    "        i += 1\n",
    "        print(str(i) + '|', end=' ')\n",
    "        for c in row:\n",
    "            print(c, end=' ')\n",
    "        print()"
   ]
  },
  {
   "cell_type": "code",
   "execution_count": 11,
   "id": "50366ec2",
   "metadata": {},
   "outputs": [
    {
     "name": "stdout",
     "output_type": "stream",
     "text": [
      "   1 2 3 4 5 6\n",
      "   ------------\n",
      "1| B B I J . . \n",
      "2| . . I J C C \n",
      "3| . . I A A M \n",
      "4| G D D K . M \n",
      "5| G H . K L . \n",
      "6| G H F F L . \n"
     ]
    }
   ],
   "source": [
    "print_board(boards[0])"
   ]
  },
  {
   "cell_type": "code",
   "execution_count": 12,
   "id": "4f9687e0",
   "metadata": {},
   "outputs": [
    {
     "name": "stdout",
     "output_type": "stream",
     "text": [
      "   1 2 3 4 5 6\n",
      "   ------------\n",
      "1| B B I J . . \n",
      "2| . . I J C C \n",
      "3| . . I A A M \n",
      "4| G D D K . M \n",
      "5| G H . K L . \n",
      "6| G H F F L . \n"
     ]
    },
    {
     "data": {
      "text/plain": [
       "{'B': 100,\n",
       " 'I': 100,\n",
       " 'J': 100,\n",
       " 'C': 100,\n",
       " 'A': 100,\n",
       " 'M': 100,\n",
       " 'G': 100,\n",
       " 'D': 100,\n",
       " 'K': 100,\n",
       " 'H': 100,\n",
       " 'L': 100,\n",
       " 'F': 100}"
      ]
     },
     "execution_count": 12,
     "metadata": {},
     "output_type": "execute_result"
    }
   ],
   "source": [
    "# THIS IS THE PUZZLE THAT WILL BE USED \n",
    "puzzle = filtered_content[0]\n",
    "board = get_board(filtered_content[0])\n",
    "fuel = get_fuel(filtered_content[0])\n",
    "print_board(board)\n",
    "fuel"
   ]
  },
  {
   "cell_type": "code",
   "execution_count": 13,
   "id": "38062e29",
   "metadata": {},
   "outputs": [
    {
     "name": "stdout",
     "output_type": "stream",
     "text": [
      "B\n",
      "B\n",
      "I\n",
      "I\n",
      "I\n"
     ]
    }
   ],
   "source": [
    "print(board[0][0])\n",
    "print(board[0][1])\n",
    "\n",
    "print(board[0][2])\n",
    "print(board[1][2])\n",
    "print(board[2][2])"
   ]
  },
  {
   "cell_type": "markdown",
   "id": "dd3108cf",
   "metadata": {},
   "source": [
    "# 1. UCS"
   ]
  },
  {
   "cell_type": "code",
   "execution_count": 14,
   "id": "1c3a22a3",
   "metadata": {},
   "outputs": [],
   "source": [
    "class Car: \n",
    "    def __init__(self, position, length, orientation): \n",
    "        self.position = position \n",
    "        self.length = length \n",
    "        self.orientation = orientation "
   ]
  },
  {
   "cell_type": "code",
   "execution_count": 16,
   "id": "9c34693c",
   "metadata": {
    "scrolled": false
   },
   "outputs": [
    {
     "name": "stdout",
     "output_type": "stream",
     "text": [
      "   1 2 3 4 5 6\n",
      "   ------------\n",
      "1| B B I J . . \n",
      "2| . . I J C C \n",
      "3| . . I A A M \n",
      "4| G D D K . M \n",
      "5| G H . K L . \n",
      "6| G H F F L . \n",
      "\n",
      "B [0, 0] 2 h\n",
      "I [0, 2] 3 v\n",
      "J [0, 3] 2 v\n",
      "C [1, 4] 1 h\n",
      "A [2, 3] 2 h\n",
      "M [2, 5] 2 v\n",
      "G [3, 0] 2 v\n",
      "D [3, 1] 2 h\n",
      "K [3, 3] 2 v\n",
      "H [4, 1] 1 v\n",
      "L [4, 4] 1 v\n",
      "F [5, 2] 2 h\n"
     ]
    }
   ],
   "source": [
    "# go through the board, identify moves, make them into states \n",
    "# for ONE BOARD \n",
    "def get_cars(board):\n",
    "    cars = {}\n",
    "    for i in range(6): # iterate over each row\n",
    "        for j in range(6): # iterate over each column\n",
    "            if board[i][j].isalpha(): # B # I\n",
    "                if j < 5 and board[i][j+1] == board[i][j]: # B == B # I != J skip\n",
    "                    posi = j+1 # posi = 1\n",
    "                    while posi < 5 and board[i][posi] == board[i][j]: # board[0][1] = B, board[0][2] = I, not equal, break\n",
    "                        posi += 1 # posi = 2\n",
    "                    \n",
    "                    if board[i][j] not in cars:\n",
    "                        cars[board[i][j]] = Car([i, j], posi - j, 'h') # map car B to its parameters \n",
    "\n",
    "                    j = posi - 1 # go to last position of car just visited\n",
    "\n",
    "                elif i < 5 and board[i+1][j] == board[i][j]: # I = I\n",
    "                    posi = i+1 # posi = 1\n",
    "                    while posi < 5 and board[posi][j] == board[i][j]: # I = I, I = I, I != D, exit loop\n",
    "                        posi += 1 # posi = 2, posi = 3\n",
    "                    if board[i][j] not in cars:\n",
    "                        cars[board[i][j]] = Car([i, j], posi - i, 'v')\n",
    "    return cars\n",
    "\n",
    "print_board(board)\n",
    "print()\n",
    "cars = get_cars(board)\n",
    "for car in cars: \n",
    "    print(car + ' [' + str(cars[car].position[0]) + ', ' + str(cars[car].position[1]) + '] ' + str(cars[car].length) + ' ' + cars[car].orientation)"
   ]
  },
  {
   "cell_type": "code",
   "execution_count": null,
   "id": "cb6ecf5b",
   "metadata": {},
   "outputs": [],
   "source": [
    "# go through the board, identify moves, make them into states \n",
    "# for ONE BOARD \n",
    "def get_cars(board):\n",
    "    cars = {}\n",
    "    for i in range(6): # iterate over each row\n",
    "        for j in range(6): # iterate over each column\n",
    "            if board[i][j].isalpha(): # B # I\n",
    "                if j < 5 and board[i][j+1] == board[i][j]: # B == B # I != J skip\n",
    "                    posi = j+1 # posi = 1\n",
    "                    while posi < 5 and board[i][posi] == board[i][j]: # board[0][1] = B, board[0][2] = I, not equal, break\n",
    "                        posi += 1 # posi = 2\n",
    "                    \n",
    "                    if board[i][j] not in cars:\n",
    "                        cars[board[i][j]] = Car([i, j], posi - j, 'h') # map car B to its parameters \n",
    "\n",
    "                    j = posi - 1 # go to last position of car just visited\n",
    "\n",
    "                elif i < 5 and board[i+1][j] == board[i][j]: # I = I\n",
    "                    posi = i+1 # posi = 1\n",
    "                    while posi < 5 and board[posi][j] == board[i][j]: # I = I, I = I, I != D, exit loop\n",
    "                        posi += 1 # posi = 2, posi = 3\n",
    "                    if board[i][j] not in cars:\n",
    "                        cars[board[i][j]] = Car([i, j], posi - i, 'v')\n",
    "    return cars\n",
    "\n",
    "print_board(board)\n",
    "print()\n",
    "cars = get_cars(board)\n",
    "for car in cars: \n",
    "    print(car + ' [' + str(cars[car].position[0]) + ', ' + str(cars[car].position[1]) + '] ' + str(cars[car].length) + ' ' + cars[car].orientation)"
   ]
  },
  {
   "cell_type": "code",
   "execution_count": null,
   "id": "af52bebf",
   "metadata": {},
   "outputs": [],
   "source": [
    "# identify potential moves\n",
    "def moves_identified(board):\n",
    "    cars = get_cars(board)\n",
    "    for car, params in cars.items(): \n",
    "        i = params.position[0]\n",
    "        j = params.position[j]\n",
    "        if params.orientation == 'h': \n",
    "            if j-1 >= 0 and board[i][j-1] == '.': \n",
    "                # handle this case \n",
    "            if j+1 < 6 and board[i][j+1] == ',': \n",
    "                #handle this case \n",
    "        elif params.orientation == 'v': \n",
    "            if i-1 >= 0 and board[i-1][j] == '.': \n",
    "                # handle this case \n",
    "            if i+1 < 6 and board[i-1][j] == '.': \n",
    "                posi = i-1 \n",
    "                while posi < 6 and board[posi][i] == '.': \n",
    "                    # ** LEFT OFF HERE ** \n",
    "                    # figure out how to keep track of potential moves. make a state out of it directly \n",
    "                    # or keep enough info stored to make all the states at once later? "
   ]
  },
  {
   "cell_type": "code",
   "execution_count": null,
   "id": "c47bccce",
   "metadata": {},
   "outputs": [],
   "source": []
  },
  {
   "cell_type": "code",
   "execution_count": null,
   "id": "ebf7aa42",
   "metadata": {},
   "outputs": [],
   "source": [
    "class BoardState:\n",
    "    def __init__(self): \n",
    "        "
   ]
  },
  {
   "cell_type": "code",
   "execution_count": null,
   "id": "9cfdd3ab",
   "metadata": {},
   "outputs": [],
   "source": [
    "class Game:\n",
    "    def __init__(self):\n",
    "        self.initialize_game()\n",
    "        \n",
    "    def initialize_game(self):\n",
    "        self.current_state = [['.','.','.'],\n",
    "                              ['.','.','.'],\n",
    "                              ['.','.','.']]\n",
    "        # Player X always plays first\n",
    "        self.player_turn = 'X'\n",
    "\n",
    "    # draw the board\n",
    "    def draw_board(self):\n",
    "        print()\n",
    "        for y in range(0, 3):\n",
    "            for x in range(0, 3):\n",
    "                print(F'{self.current_state[x][y]}', end=\"\")\n",
    "            print()\n",
    "        print()\n",
    "        \n",
    "    # validates if coordinates are valid\n",
    "    def is_valid(self, px, py):\n",
    "        if px < 0 or px > 2 or py < 0 or py > 2:\n",
    "            return False\n",
    "        elif self.current_state[px][py] != '.':\n",
    "            return False\n",
    "        else:\n",
    "            return True\n",
    "\n",
    "    # check if the board contains a win\n",
    "    def is_end(self):\n",
    "        # Vertical win\n",
    "        for i in range(0, 3):\n",
    "            if (self.current_state[0][i] != '.' and\n",
    "                self.current_state[0][i] == self.current_state[1][i] and\n",
    "                self.current_state[1][i] == self.current_state[2][i]):\n",
    "                return self.current_state[0][i]\n",
    "        # Horizontal win\n",
    "        for i in range(0, 3):\n",
    "            if (self.current_state[i] == ['X', 'X', 'X']):\n",
    "                return 'X'\n",
    "            elif (self.current_state[i] == ['O', 'O', 'O']):\n",
    "                return 'O'\n",
    "        # Main diagonal win\n",
    "        if (self.current_state[0][0] != '.' and\n",
    "            self.current_state[0][0] == self.current_state[1][1] and\n",
    "            self.current_state[0][0] == self.current_state[2][2]):\n",
    "            return self.current_state[0][0]\n",
    "        # Second diagonal win\n",
    "        if (self.current_state[0][2] != '.' and\n",
    "            self.current_state[0][2] == self.current_state[1][1] and\n",
    "            self.current_state[0][2] == self.current_state[2][0]):\n",
    "            return self.current_state[0][2]\n",
    "        # Is whole board full?\n",
    "        for i in range(0, 3):\n",
    "            for j in range(0, 3):\n",
    "                # There's an empty field, we continue the game\n",
    "                if (self.current_state[i][j] == '.'):\n",
    "                    return None\n",
    "        # It's a tie!\n",
    "        return '.'\n",
    "\n",
    "    # check of end of game\n",
    "    def check_end(self):\n",
    "        self.result = self.is_end()\n",
    "        # Printing the appropriate message if the game has ended\n",
    "        if self.result != None:\n",
    "            if self.result == 'X':\n",
    "                print('The winner is X!')\n",
    "            elif self.result == 'O':\n",
    "                print('The winner is O!')\n",
    "            elif self.result == '.':\n",
    "                print(\"It's a tie!\")\n",
    "            self.initialize_game()\n",
    "        return self.result\n",
    "\n",
    "    # get user inputs (X and Y corrdinates)\n",
    "    def input_move(self):\n",
    "        while True:\n",
    "            print(F'Player {self.player_turn}, enter your move:')\n",
    "            px = int(input('enter the x coordinate: '))\n",
    "            py = int(input('enter the y coordinate: '))\n",
    "            if self.is_valid(px, py):\n",
    "                return (px,py)\n",
    "            else:\n",
    "                print('The move is not valid! Try again.')\n",
    "\n",
    "    # alternate players after a turn\n",
    "    def switch_player(self):\n",
    "        if self.player_turn == 'X':\n",
    "            self.player_turn = 'O'\n",
    "        elif self.player_turn == 'O':\n",
    "            self.player_turn = 'X'\n",
    "        return self.player_turn\n",
    "\n",
    "    # THE BUG HAS BEEN FIXED\n",
    "    def minimax(self, maximize=False):\n",
    "        # Minimizing for 'X' and maximizing for 'O'\n",
    "        # Possible values are:\n",
    "        # -1 - win for 'X'\n",
    "        # 0  - a tie\n",
    "        # 1  - loss for 'X'\n",
    "        # We're initially setting it to 2 or -2 as worse than the worst case:\n",
    "        value = 2\n",
    "        if max:\n",
    "            value = -2\n",
    "        x = None\n",
    "        y = None\n",
    "        result = self.is_end()\n",
    "        if result == 'X':\n",
    "            return (-1, x, y)\n",
    "        elif result == 'O':\n",
    "            return (1, x, y)\n",
    "        elif result == '.':\n",
    "            return (0, x, y)\n",
    "        # evaluate all possible children states and pick the optimal one\n",
    "        # depending on whether we are maximizing or minimizing\n",
    "        for i in range(0, 3):\n",
    "            for j in range(0, 3):\n",
    "                if self.current_state[i][j] == '.':\n",
    "                    if max:\n",
    "                        # create a child state\n",
    "                        self.current_state[i][j] = 'O'\n",
    "                        # evaluate it\n",
    "                        (v, _, _) = self.minimax(maximize=False)\n",
    "                        # keep its coordinates if best so far\n",
    "                        if v > value:\n",
    "                            value = v\n",
    "                            x = i\n",
    "                            y = j\n",
    "                    else:\n",
    "                        # create a child state\n",
    "                        self.current_state[i][j] = 'X'\n",
    "                        # evaluate it\n",
    "                        (v, _, _) = self.minimax(maximize=True)\n",
    "                        # keep its coordinates if best so far\n",
    "                        if v < value:\n",
    "                            value = v\n",
    "                            x = i\n",
    "                            y = j\n",
    "                    # undo the child state <---------\n",
    "                    self.current_state[i][j] = '.'\n",
    "        # return best coordinates and associated value\n",
    "        return (value, x, y)\n",
    "\n",
    "    def play(self,is_human_x=True,is_human_o=False):\n",
    "        while True:\n",
    "            self.draw_board()\n",
    "            if self.check_end():\n",
    "                return\n",
    "            # determine next move (human or AI)\n",
    "            if (self.player_turn == 'X' and is_human_x) or (self.player_turn == 'O' and is_human_o):\n",
    "                (x,y) = self.input_move()\n",
    "            else:\n",
    "                start = time.time()\n",
    "                # we maximize for player O and minimize for player X\n",
    "                (_, x, y) = self.minimax(maximize=self.player_turn == 'O')\n",
    "                end = time.time()\n",
    "                print(F'Evaluation time: {round(end - start, 7)}s')\n",
    "                print(F'Player {self.player_turn} under AI control plays: x = {x}, y = {y}')\n",
    "            # play the move\n",
    "            self.current_state[x][y] = self.player_turn\n",
    "            self.switch_player()\n",
    "\n",
    "g = Game()"
   ]
  }
 ],
 "metadata": {
  "kernelspec": {
   "display_name": "Python 3 (ipykernel)",
   "language": "python",
   "name": "python3"
  },
  "language_info": {
   "codemirror_mode": {
    "name": "ipython",
    "version": 3
   },
   "file_extension": ".py",
   "mimetype": "text/x-python",
   "name": "python",
   "nbconvert_exporter": "python",
   "pygments_lexer": "ipython3",
   "version": "3.9.12"
  }
 },
 "nbformat": 4,
 "nbformat_minor": 5
}
